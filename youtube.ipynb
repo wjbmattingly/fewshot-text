{
 "cells": [
  {
   "cell_type": "code",
   "execution_count": 2,
   "id": "66b0d1ec-aa59-4f62-8110-92cd89ee4fbe",
   "metadata": {},
   "outputs": [],
   "source": [
    "# !pip install classy-classification"
   ]
  },
  {
   "cell_type": "code",
   "execution_count": 3,
   "id": "b14164fd-cb1d-4f96-9e84-2ce4b6d770a8",
   "metadata": {},
   "outputs": [
    {
     "name": "stderr",
     "output_type": "stream",
     "text": [
      "C:\\Users\\wma22\\anaconda3\\envs\\spacy3\\lib\\site-packages\\tqdm\\auto.py:22: TqdmWarning: IProgress not found. Please update jupyter and ipywidgets. See https://ipywidgets.readthedocs.io/en/stable/user_install.html\n",
      "  from .autonotebook import tqdm as notebook_tqdm\n"
     ]
    }
   ],
   "source": [
    "import spacy\n",
    "import classy_classification"
   ]
  },
  {
   "cell_type": "code",
   "execution_count": 4,
   "id": "e401be40-4fc7-4438-a82f-c5d6dfef84d2",
   "metadata": {},
   "outputs": [],
   "source": [
    "data = {\n",
    "    \"furniture\": [\"This text is about chairs.\",\n",
    "               \"Couches, benches and televisions.\",\n",
    "               \"I really need to get a new sofa.\"],\n",
    "}"
   ]
  },
  {
   "cell_type": "code",
   "execution_count": 5,
   "id": "2bc14780-7dab-4981-86f4-a9b45a252771",
   "metadata": {},
   "outputs": [
    {
     "data": {
      "text/plain": [
       "{'furniture': ['This text is about chairs.',\n",
       "  'Couches, benches and televisions.',\n",
       "  'I really need to get a new sofa.'],\n",
       " 'fear': ['He strode over to the sofa where Dudley sat frozen with fear.',\n",
       "  \"Reckon Dumbledore's the only one You-Know-Who was afraid of.\",\n",
       "  'Scared of the students, scared of his own subject now, where\\'s me umbrella?\"']}"
      ]
     },
     "execution_count": 5,
     "metadata": {},
     "output_type": "execute_result"
    }
   ],
   "source": [
    "with open (\"data/fear.txt\", \"r\") as f:\n",
    "    fear = f.read().splitlines()\n",
    "    data[\"fear\"] = fear\n",
    "data"
   ]
  },
  {
   "cell_type": "code",
   "execution_count": 21,
   "id": "54e823a4-cb6a-4779-a856-0cf5a47191a0",
   "metadata": {},
   "outputs": [
    {
     "name": "stdout",
     "output_type": "stream",
     "text": [
      "Fitting 2 folds for each of 6 candidates, totalling 12 fits\n"
     ]
    },
    {
     "data": {
      "text/plain": [
       "<classy_classification.classifiers.spacy_few_shot_external.classySpacyFewShotExternal at 0x24dd3351bc8>"
      ]
     },
     "execution_count": 21,
     "metadata": {},
     "output_type": "execute_result"
    }
   ],
   "source": [
    "nlp = spacy.blank(\"en\")\n",
    "nlp.add_pipe(\n",
    "    \"text_categorizer\", \n",
    "    config={\n",
    "        \"data\": data, \n",
    "        \"model\": \"sentence-transformers/paraphrase-multilingual-MiniLM-L12-v2\",\n",
    "        \"device\": \"cpu\"\n",
    "    }\n",
    ")"
   ]
  },
  {
   "cell_type": "code",
   "execution_count": 13,
   "id": "2024492e-9288-447c-bc4b-0ff481ccc24e",
   "metadata": {},
   "outputs": [],
   "source": [
    "sentence_model = spacy.blank(\"en\")"
   ]
  },
  {
   "cell_type": "code",
   "execution_count": 14,
   "id": "a9d343f0-d073-4457-a03d-f5018ac17c7d",
   "metadata": {},
   "outputs": [
    {
     "data": {
      "text/plain": [
       "<spacy.pipeline.sentencizer.Sentencizer at 0x24dd2c33488>"
      ]
     },
     "execution_count": 14,
     "metadata": {},
     "output_type": "execute_result"
    }
   ],
   "source": [
    "sentence_model.add_pipe(\"sentencizer\")"
   ]
  },
  {
   "cell_type": "code",
   "execution_count": 15,
   "id": "10571831-4868-45cc-a2d5-9b0933ae8e32",
   "metadata": {},
   "outputs": [],
   "source": [
    "with open (\"data/harry_potter_cleaned.txt\", \"r\") as f:\n",
    "    text = f.read()"
   ]
  },
  {
   "cell_type": "code",
   "execution_count": 16,
   "id": "a697f1c8-246f-4c69-80e9-751fe30edb40",
   "metadata": {},
   "outputs": [],
   "source": [
    "sentences = sentence_model(text)"
   ]
  },
  {
   "cell_type": "code",
   "execution_count": 20,
   "id": "54c6796f-a3a7-41a1-8d2c-f45fddbb8dad",
   "metadata": {},
   "outputs": [
    {
     "name": "stdout",
     "output_type": "stream",
     "text": [
      "Fear flooded him.\n",
      "{'fear': 0.9388680936860668, 'furniture': 0.061131906313933386}\n",
      "\n",
      "\n",
      "Dudley's mouth fell open in horror, but Harry's heart gave a leap.\n",
      "{'fear': 0.901179465776532, 'furniture': 0.09882053422346787}\n",
      "Dudley was in shock.\n",
      "{'fear': 0.913137798709967, 'furniture': 0.08686220129003303}\n",
      "By nightfall Dudley was howling.\n",
      "{'fear': 0.9159044259585061, 'furniture': 0.08409557404149398}\n",
      "He looked suddenly anxious.\n",
      "{'fear': 0.9016648713325102, 'furniture': 0.09833512866749008}\n",
      "He looked terrified at the very thought.\n",
      "{'fear': 0.939231289681859, 'furniture': 0.060768710318141086}\n",
      "He looked suddenly suspicious. \"\n",
      "{'fear': 0.9067198780607219, 'furniture': 0.09328012193927812}\n"
     ]
    }
   ],
   "source": [
    "for sent in sentences.sents:\n",
    "    doc = nlp(sent.text)\n",
    "    if doc._.cats[\"fear\"] > .9:\n",
    "        print (doc)\n",
    "        print (doc._.cats)"
   ]
  },
  {
   "cell_type": "code",
   "execution_count": null,
   "id": "073705fe-ed12-48cd-9a2f-80a4ba56a1d6",
   "metadata": {},
   "outputs": [],
   "source": []
  }
 ],
 "metadata": {
  "kernelspec": {
   "display_name": "Python 3 (ipykernel)",
   "language": "python",
   "name": "python3"
  },
  "language_info": {
   "codemirror_mode": {
    "name": "ipython",
    "version": 3
   },
   "file_extension": ".py",
   "mimetype": "text/x-python",
   "name": "python",
   "nbconvert_exporter": "python",
   "pygments_lexer": "ipython3",
   "version": "3.7.13"
  }
 },
 "nbformat": 4,
 "nbformat_minor": 5
}
