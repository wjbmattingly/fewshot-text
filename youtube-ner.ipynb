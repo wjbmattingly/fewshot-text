{
 "cells": [
  {
   "cell_type": "code",
   "execution_count": 1,
   "id": "4f5738b4-59d7-4026-8454-29e22d2644b7",
   "metadata": {},
   "outputs": [
    {
     "name": "stdout",
     "output_type": "stream",
     "text": [
      "Requirement already satisfied: classy-classification in c:\\users\\wma22\\anaconda3\\envs\\spacy3\\lib\\site-packages (0.4.0)\n",
      "Requirement already satisfied: scikit-learn<2.0,>=1.0 in c:\\users\\wma22\\anaconda3\\envs\\spacy3\\lib\\site-packages (from classy-classification) (1.0.2)\n",
      "Requirement already satisfied: spacy[transformers]<4.0,>=3.0 in c:\\users\\wma22\\anaconda3\\envs\\spacy3\\lib\\site-packages (from classy-classification) (3.2.4)\n",
      "Requirement already satisfied: sentence-transformers<3.0,>=2.0 in c:\\users\\wma22\\anaconda3\\envs\\spacy3\\lib\\site-packages (from classy-classification) (2.2.0)\n",
      "Requirement already satisfied: numpy>=1.14.6 in c:\\users\\wma22\\anaconda3\\envs\\spacy3\\lib\\site-packages (from scikit-learn<2.0,>=1.0->classy-classification) (1.21.5)\n",
      "Requirement already satisfied: threadpoolctl>=2.0.0 in c:\\users\\wma22\\anaconda3\\envs\\spacy3\\lib\\site-packages (from scikit-learn<2.0,>=1.0->classy-classification) (3.1.0)\n",
      "Requirement already satisfied: scipy>=1.1.0 in c:\\users\\wma22\\anaconda3\\envs\\spacy3\\lib\\site-packages (from scikit-learn<2.0,>=1.0->classy-classification) (1.7.3)\n",
      "Requirement already satisfied: joblib>=0.11 in c:\\users\\wma22\\anaconda3\\envs\\spacy3\\lib\\site-packages (from scikit-learn<2.0,>=1.0->classy-classification) (1.1.0)\n",
      "Requirement already satisfied: sentencepiece in c:\\users\\wma22\\anaconda3\\envs\\spacy3\\lib\\site-packages (from sentence-transformers<3.0,>=2.0->classy-classification) (0.1.96)\n",
      "Requirement already satisfied: transformers<5.0.0,>=4.6.0 in c:\\users\\wma22\\anaconda3\\envs\\spacy3\\lib\\site-packages (from sentence-transformers<3.0,>=2.0->classy-classification) (4.17.0)\n",
      "Requirement already satisfied: torch>=1.6.0 in c:\\users\\wma22\\anaconda3\\envs\\spacy3\\lib\\site-packages (from sentence-transformers<3.0,>=2.0->classy-classification) (1.11.0)\n",
      "Requirement already satisfied: nltk in c:\\users\\wma22\\anaconda3\\envs\\spacy3\\lib\\site-packages (from sentence-transformers<3.0,>=2.0->classy-classification) (3.7)\n",
      "Requirement already satisfied: tqdm in c:\\users\\wma22\\anaconda3\\envs\\spacy3\\lib\\site-packages (from sentence-transformers<3.0,>=2.0->classy-classification) (4.64.0)\n",
      "Requirement already satisfied: torchvision in c:\\users\\wma22\\anaconda3\\envs\\spacy3\\lib\\site-packages (from sentence-transformers<3.0,>=2.0->classy-classification) (0.12.0)\n",
      "Requirement already satisfied: huggingface-hub in c:\\users\\wma22\\anaconda3\\envs\\spacy3\\lib\\site-packages (from sentence-transformers<3.0,>=2.0->classy-classification) (0.4.0)\n",
      "Requirement already satisfied: cymem<2.1.0,>=2.0.2 in c:\\users\\wma22\\anaconda3\\envs\\spacy3\\lib\\site-packages (from spacy[transformers]<4.0,>=3.0->classy-classification) (2.0.6)\n",
      "Requirement already satisfied: spacy-loggers<2.0.0,>=1.0.0 in c:\\users\\wma22\\anaconda3\\envs\\spacy3\\lib\\site-packages (from spacy[transformers]<4.0,>=3.0->classy-classification) (1.0.2)\n",
      "Requirement already satisfied: typer<0.5.0,>=0.3.0 in c:\\users\\wma22\\anaconda3\\envs\\spacy3\\lib\\site-packages (from spacy[transformers]<4.0,>=3.0->classy-classification) (0.4.1)\n",
      "Requirement already satisfied: packaging>=20.0 in c:\\users\\wma22\\anaconda3\\envs\\spacy3\\lib\\site-packages (from spacy[transformers]<4.0,>=3.0->classy-classification) (21.3)\n",
      "Requirement already satisfied: typing-extensions<4.0.0.0,>=3.7.4 in c:\\users\\wma22\\anaconda3\\envs\\spacy3\\lib\\site-packages (from spacy[transformers]<4.0,>=3.0->classy-classification) (3.10.0.2)\n",
      "Requirement already satisfied: requests<3.0.0,>=2.13.0 in c:\\users\\wma22\\anaconda3\\envs\\spacy3\\lib\\site-packages (from spacy[transformers]<4.0,>=3.0->classy-classification) (2.27.1)\n",
      "Requirement already satisfied: srsly<3.0.0,>=2.4.1 in c:\\users\\wma22\\anaconda3\\envs\\spacy3\\lib\\site-packages (from spacy[transformers]<4.0,>=3.0->classy-classification) (2.4.2)\n",
      "Requirement already satisfied: wasabi<1.1.0,>=0.8.1 in c:\\users\\wma22\\anaconda3\\envs\\spacy3\\lib\\site-packages (from spacy[transformers]<4.0,>=3.0->classy-classification) (0.9.1)\n",
      "Requirement already satisfied: click<8.1.0 in c:\\users\\wma22\\anaconda3\\envs\\spacy3\\lib\\site-packages (from spacy[transformers]<4.0,>=3.0->classy-classification) (8.0.4)\n",
      "Requirement already satisfied: thinc<8.1.0,>=8.0.12 in c:\\users\\wma22\\anaconda3\\envs\\spacy3\\lib\\site-packages (from spacy[transformers]<4.0,>=3.0->classy-classification) (8.0.15)\n",
      "Requirement already satisfied: murmurhash<1.1.0,>=0.28.0 in c:\\users\\wma22\\anaconda3\\envs\\spacy3\\lib\\site-packages (from spacy[transformers]<4.0,>=3.0->classy-classification) (1.0.6)\n",
      "Requirement already satisfied: setuptools in c:\\users\\wma22\\anaconda3\\envs\\spacy3\\lib\\site-packages (from spacy[transformers]<4.0,>=3.0->classy-classification) (58.0.4)\n",
      "Requirement already satisfied: preshed<3.1.0,>=3.0.2 in c:\\users\\wma22\\anaconda3\\envs\\spacy3\\lib\\site-packages (from spacy[transformers]<4.0,>=3.0->classy-classification) (3.0.6)\n",
      "Requirement already satisfied: langcodes<4.0.0,>=3.2.0 in c:\\users\\wma22\\anaconda3\\envs\\spacy3\\lib\\site-packages (from spacy[transformers]<4.0,>=3.0->classy-classification) (3.3.0)\n",
      "Requirement already satisfied: catalogue<2.1.0,>=2.0.6 in c:\\users\\wma22\\anaconda3\\envs\\spacy3\\lib\\site-packages (from spacy[transformers]<4.0,>=3.0->classy-classification) (2.0.6)\n",
      "Requirement already satisfied: pathy>=0.3.5 in c:\\users\\wma22\\anaconda3\\envs\\spacy3\\lib\\site-packages (from spacy[transformers]<4.0,>=3.0->classy-classification) (0.6.1)\n",
      "Requirement already satisfied: blis<0.8.0,>=0.4.0 in c:\\users\\wma22\\anaconda3\\envs\\spacy3\\lib\\site-packages (from spacy[transformers]<4.0,>=3.0->classy-classification) (0.7.7)\n",
      "Requirement already satisfied: spacy-legacy<3.1.0,>=3.0.8 in c:\\users\\wma22\\anaconda3\\envs\\spacy3\\lib\\site-packages (from spacy[transformers]<4.0,>=3.0->classy-classification) (3.0.9)\n",
      "Requirement already satisfied: jinja2 in c:\\users\\wma22\\anaconda3\\envs\\spacy3\\lib\\site-packages (from spacy[transformers]<4.0,>=3.0->classy-classification) (3.1.1)\n",
      "Requirement already satisfied: pydantic!=1.8,!=1.8.1,<1.9.0,>=1.7.4 in c:\\users\\wma22\\anaconda3\\envs\\spacy3\\lib\\site-packages (from spacy[transformers]<4.0,>=3.0->classy-classification) (1.8.2)\n",
      "Requirement already satisfied: spacy-transformers<1.2.0,>=1.1.2 in c:\\users\\wma22\\anaconda3\\envs\\spacy3\\lib\\site-packages (from spacy[transformers]<4.0,>=3.0->classy-classification) (1.1.5)\n",
      "Requirement already satisfied: zipp>=0.5 in c:\\users\\wma22\\anaconda3\\envs\\spacy3\\lib\\site-packages (from catalogue<2.1.0,>=2.0.6->spacy[transformers]<4.0,>=3.0->classy-classification) (3.8.0)\n",
      "Requirement already satisfied: colorama in c:\\users\\wma22\\anaconda3\\envs\\spacy3\\lib\\site-packages (from click<8.1.0->spacy[transformers]<4.0,>=3.0->classy-classification) (0.4.4)\n",
      "Requirement already satisfied: importlib-metadata in c:\\users\\wma22\\anaconda3\\envs\\spacy3\\lib\\site-packages (from click<8.1.0->spacy[transformers]<4.0,>=3.0->classy-classification) (4.11.3)\n",
      "Requirement already satisfied: pyparsing!=3.0.5,>=2.0.2 in c:\\users\\wma22\\anaconda3\\envs\\spacy3\\lib\\site-packages (from packaging>=20.0->spacy[transformers]<4.0,>=3.0->classy-classification) (3.0.7)\n",
      "Requirement already satisfied: smart-open<6.0.0,>=5.0.0 in c:\\users\\wma22\\anaconda3\\envs\\spacy3\\lib\\site-packages (from pathy>=0.3.5->spacy[transformers]<4.0,>=3.0->classy-classification) (5.2.1)\n",
      "Requirement already satisfied: charset-normalizer~=2.0.0 in c:\\users\\wma22\\anaconda3\\envs\\spacy3\\lib\\site-packages (from requests<3.0.0,>=2.13.0->spacy[transformers]<4.0,>=3.0->classy-classification) (2.0.12)\n",
      "Requirement already satisfied: idna<4,>=2.5 in c:\\users\\wma22\\anaconda3\\envs\\spacy3\\lib\\site-packages (from requests<3.0.0,>=2.13.0->spacy[transformers]<4.0,>=3.0->classy-classification) (3.3)\n",
      "Requirement already satisfied: certifi>=2017.4.17 in c:\\users\\wma22\\anaconda3\\envs\\spacy3\\lib\\site-packages (from requests<3.0.0,>=2.13.0->spacy[transformers]<4.0,>=3.0->classy-classification) (2021.10.8)\n",
      "Requirement already satisfied: urllib3<1.27,>=1.21.1 in c:\\users\\wma22\\anaconda3\\envs\\spacy3\\lib\\site-packages (from requests<3.0.0,>=2.13.0->spacy[transformers]<4.0,>=3.0->classy-classification) (1.26.9)\n",
      "Requirement already satisfied: spacy-alignments<1.0.0,>=0.7.2 in c:\\users\\wma22\\anaconda3\\envs\\spacy3\\lib\\site-packages (from spacy-transformers<1.2.0,>=1.1.2->spacy[transformers]<4.0,>=3.0->classy-classification) (0.8.4)\n",
      "Requirement already satisfied: regex!=2019.12.17 in c:\\users\\wma22\\anaconda3\\envs\\spacy3\\lib\\site-packages (from transformers<5.0.0,>=4.6.0->sentence-transformers<3.0,>=2.0->classy-classification) (2022.3.15)\n",
      "Requirement already satisfied: pyyaml>=5.1 in c:\\users\\wma22\\anaconda3\\envs\\spacy3\\lib\\site-packages (from transformers<5.0.0,>=4.6.0->sentence-transformers<3.0,>=2.0->classy-classification) (6.0)\n",
      "Requirement already satisfied: sacremoses in c:\\users\\wma22\\anaconda3\\envs\\spacy3\\lib\\site-packages (from transformers<5.0.0,>=4.6.0->sentence-transformers<3.0,>=2.0->classy-classification) (0.0.49)\n",
      "Requirement already satisfied: tokenizers!=0.11.3,>=0.11.1 in c:\\users\\wma22\\anaconda3\\envs\\spacy3\\lib\\site-packages (from transformers<5.0.0,>=4.6.0->sentence-transformers<3.0,>=2.0->classy-classification) (0.11.6)\n",
      "Requirement already satisfied: filelock in c:\\users\\wma22\\anaconda3\\envs\\spacy3\\lib\\site-packages (from transformers<5.0.0,>=4.6.0->sentence-transformers<3.0,>=2.0->classy-classification) (3.6.0)\n",
      "Requirement already satisfied: MarkupSafe>=2.0 in c:\\users\\wma22\\anaconda3\\envs\\spacy3\\lib\\site-packages (from jinja2->spacy[transformers]<4.0,>=3.0->classy-classification) (2.1.1)\n",
      "Requirement already satisfied: six in c:\\users\\wma22\\anaconda3\\envs\\spacy3\\lib\\site-packages (from sacremoses->transformers<5.0.0,>=4.6.0->sentence-transformers<3.0,>=2.0->classy-classification) (1.16.0)\n",
      "Requirement already satisfied: pillow!=8.3.*,>=5.3.0 in c:\\users\\wma22\\anaconda3\\envs\\spacy3\\lib\\site-packages (from torchvision->sentence-transformers<3.0,>=2.0->classy-classification) (9.1.0)\n"
     ]
    }
   ],
   "source": [
    "!pip install classy-classification"
   ]
  },
  {
   "cell_type": "code",
   "execution_count": 2,
   "id": "d3740abc-7e1e-475f-9092-265a0850c49e",
   "metadata": {},
   "outputs": [
    {
     "name": "stderr",
     "output_type": "stream",
     "text": [
      "C:\\Users\\wma22\\anaconda3\\envs\\spacy3\\lib\\site-packages\\tqdm\\auto.py:22: TqdmWarning: IProgress not found. Please update jupyter and ipywidgets. See https://ipywidgets.readthedocs.io/en/stable/user_install.html\n",
      "  from .autonotebook import tqdm as notebook_tqdm\n"
     ]
    }
   ],
   "source": [
    "import spacy\n",
    "from spacy import displacy\n",
    "import concise_concepts"
   ]
  },
  {
   "cell_type": "code",
   "execution_count": 44,
   "id": "b6bfb28c-626c-49a3-be48-6d18a36d9bda",
   "metadata": {},
   "outputs": [],
   "source": [
    "data = {\n",
    "    \"fruit\": [\"apple\", \"pear\", \"orange\"],\n",
    "    \"vegetable\": [\"broccoli\", \"spinach\", \"tomato\"],\n",
    "    \"meat\": [\"beef\", \"pork\", \"fish\", \"lamb\"]\n",
    "}"
   ]
  },
  {
   "cell_type": "code",
   "execution_count": 45,
   "id": "890c9f4e-f542-460c-937e-9b98a007da69",
   "metadata": {},
   "outputs": [],
   "source": [
    "text = \"\"\"\n",
    "    Heat the oil in a large pan and add the onion, celery and carrots. \n",
    "    Then, cook over a medium–low heat for 10 minutes, or until softened. \n",
    "    Add the courgette, garlic, red peppers and oregano and cook for 2–3 minutes.\n",
    "    Later, add some oranges and chickens. \"\"\""
   ]
  },
  {
   "cell_type": "code",
   "execution_count": 46,
   "id": "a1e14794-b924-4237-9abb-d90beabcbf66",
   "metadata": {},
   "outputs": [],
   "source": [
    "nlp = spacy.load(\"en_core_web_lg\", disable=[\"ner\"])\n",
    "nlp.add_pipe(\"concise_concepts\", config={\"data\": data, \"ent_score\": True})"
   ]
  },
  {
   "cell_type": "code",
   "execution_count": 47,
   "id": "5efddfc2-1a47-46e9-8f23-25a32934f026",
   "metadata": {},
   "outputs": [
    {
     "data": {
      "text/plain": [
       "<concise_concepts.conceptualizer.ConceptualSpacy at 0x19c5c2c36c8>"
      ]
     },
     "execution_count": 47,
     "metadata": {},
     "output_type": "execute_result"
    }
   ],
   "source": [
    "nlp.add_pipe(\"concise_concepts\", config={\"data\": data, \"ent_score\": True})"
   ]
  },
  {
   "cell_type": "code",
   "execution_count": 48,
   "id": "a87ed070-aec3-483a-b9f4-fb3cc8753dd1",
   "metadata": {},
   "outputs": [],
   "source": [
    "doc = nlp(text)"
   ]
  },
  {
   "cell_type": "code",
   "execution_count": 49,
   "id": "67886b50-3852-41b7-9b2a-1df2ddb44be4",
   "metadata": {},
   "outputs": [],
   "source": [
    "options = {\"colors\": {\"fruit\": \"darkorange\", \"vegetable\": \"limegreen\", \"meat\": \"salmon\"},\n",
    "           \"ents\": [\"fruit\", \"vegetable\", \"meat\"]}"
   ]
  },
  {
   "cell_type": "code",
   "execution_count": 50,
   "id": "c320dba8-3db4-430a-b4f6-dba6c0e8defa",
   "metadata": {},
   "outputs": [],
   "source": [
    "ents = doc.ents"
   ]
  },
  {
   "cell_type": "code",
   "execution_count": 51,
   "id": "21c695f0-3462-4758-a9cd-56ce0908ae90",
   "metadata": {},
   "outputs": [],
   "source": [
    "for ent in ents:\n",
    "    new_label = f\"{ent.label_} ({float(ent._.ent_score):.0%})\"\n",
    "    options[\"colors\"][new_label] = options[\"colors\"].get(ent.label_.lower(), None)\n",
    "    options[\"ents\"].append(new_label)\n",
    "    ent.label_ = new_label\n",
    "doc.ents = ents"
   ]
  },
  {
   "cell_type": "code",
   "execution_count": 52,
   "id": "eaf93e1e-6207-41a5-bf70-463dc50ba72e",
   "metadata": {},
   "outputs": [
    {
     "data": {
      "text/html": [
       "<span class=\"tex2jax_ignore\"><div class=\"entities\" style=\"line-height: 2.5; direction: ltr\"></br>    Heat the oil in a large pan and add the \n",
       "<mark class=\"entity\" style=\"background: salmon; padding: 0.45em 0.6em; margin: 0 0.25em; line-height: 1; border-radius: 0.35em;\">\n",
       "    onion\n",
       "    <span style=\"font-size: 0.8em; font-weight: bold; line-height: 1; border-radius: 0.35em; vertical-align: middle; margin-left: 0.5rem\">MEAT (81%)</span>\n",
       "</mark>\n",
       ", celery and carrots. </br>    Then, cook over a medium–low heat for 10 minutes, or until softened. </br>    Add the courgette, \n",
       "<mark class=\"entity\" style=\"background: salmon; padding: 0.45em 0.6em; margin: 0 0.25em; line-height: 1; border-radius: 0.35em;\">\n",
       "    garlic\n",
       "    <span style=\"font-size: 0.8em; font-weight: bold; line-height: 1; border-radius: 0.35em; vertical-align: middle; margin-left: 0.5rem\">MEAT (80%)</span>\n",
       "</mark>\n",
       ", red peppers and oregano and cook for 2–3 minutes.</br>    Later, add some \n",
       "<mark class=\"entity\" style=\"background: darkorange; padding: 0.45em 0.6em; margin: 0 0.25em; line-height: 1; border-radius: 0.35em;\">\n",
       "    oranges\n",
       "    <span style=\"font-size: 0.8em; font-weight: bold; line-height: 1; border-radius: 0.35em; vertical-align: middle; margin-left: 0.5rem\">FRUIT (82%)</span>\n",
       "</mark>\n",
       " and \n",
       "<mark class=\"entity\" style=\"background: salmon; padding: 0.45em 0.6em; margin: 0 0.25em; line-height: 1; border-radius: 0.35em;\">\n",
       "    chickens\n",
       "    <span style=\"font-size: 0.8em; font-weight: bold; line-height: 1; border-radius: 0.35em; vertical-align: middle; margin-left: 0.5rem\">MEAT (53%)</span>\n",
       "</mark>\n",
       ". </div></span>"
      ],
      "text/plain": [
       "<IPython.core.display.HTML object>"
      ]
     },
     "metadata": {},
     "output_type": "display_data"
    }
   ],
   "source": [
    "displacy.render(doc, style=\"ent\", options=options, jupyter=True)"
   ]
  },
  {
   "cell_type": "code",
   "execution_count": 58,
   "id": "70baa003-4e23-433c-9ae4-c8eb198e20b9",
   "metadata": {},
   "outputs": [
    {
     "data": {
      "text/plain": [
       "<concise_concepts.conceptualizer.ConceptualSpacy at 0x19da8087308>"
      ]
     },
     "execution_count": 58,
     "metadata": {},
     "output_type": "execute_result"
    }
   ],
   "source": [
    "nlp = spacy.load(\"en_core_web_lg\", disable=[\"ner\"])\n",
    "nlp.add_pipe(\"concise_concepts\", config={\"data\": data, \"ent_score\": True, \"topn\": [150, 50, 50]})"
   ]
  },
  {
   "cell_type": "code",
   "execution_count": 59,
   "id": "2a30bd1e-3de2-489e-855b-4a6810273521",
   "metadata": {},
   "outputs": [],
   "source": [
    "doc = nlp(text)\n",
    "ents = doc.ents\n",
    "for ent in ents:\n",
    "    new_label = f\"{ent.label_} ({float(ent._.ent_score):.0%})\"\n",
    "    options[\"colors\"][new_label] = options[\"colors\"].get(ent.label_.lower(), None)\n",
    "    options[\"ents\"].append(new_label)\n",
    "    ent.label_ = new_label\n",
    "doc.ents = ents"
   ]
  },
  {
   "cell_type": "code",
   "execution_count": 60,
   "id": "80671db4-698b-4131-bc42-917149e18a4b",
   "metadata": {},
   "outputs": [
    {
     "data": {
      "text/html": [
       "<span class=\"tex2jax_ignore\"><div class=\"entities\" style=\"line-height: 2.5; direction: ltr\"></br>    Heat the oil in a large pan and add the \n",
       "<mark class=\"entity\" style=\"background: limegreen; padding: 0.45em 0.6em; margin: 0 0.25em; line-height: 1; border-radius: 0.35em;\">\n",
       "    onion\n",
       "    <span style=\"font-size: 0.8em; font-weight: bold; line-height: 1; border-radius: 0.35em; vertical-align: middle; margin-left: 0.5rem\">VEGETABLE (88%)</span>\n",
       "</mark>\n",
       ", \n",
       "<mark class=\"entity\" style=\"background: limegreen; padding: 0.45em 0.6em; margin: 0 0.25em; line-height: 1; border-radius: 0.35em;\">\n",
       "    celery\n",
       "    <span style=\"font-size: 0.8em; font-weight: bold; line-height: 1; border-radius: 0.35em; vertical-align: middle; margin-left: 0.5rem\">VEGETABLE (88%)</span>\n",
       "</mark>\n",
       " and \n",
       "<mark class=\"entity\" style=\"background: limegreen; padding: 0.45em 0.6em; margin: 0 0.25em; line-height: 1; border-radius: 0.35em;\">\n",
       "    carrots\n",
       "    <span style=\"font-size: 0.8em; font-weight: bold; line-height: 1; border-radius: 0.35em; vertical-align: middle; margin-left: 0.5rem\">VEGETABLE (91%)</span>\n",
       "</mark>\n",
       ". </br>    Then, cook over a medium–low heat for 10 minutes, or until softened. </br>    Add the courgette, \n",
       "<mark class=\"entity\" style=\"background: limegreen; padding: 0.45em 0.6em; margin: 0 0.25em; line-height: 1; border-radius: 0.35em;\">\n",
       "    garlic\n",
       "    <span style=\"font-size: 0.8em; font-weight: bold; line-height: 1; border-radius: 0.35em; vertical-align: middle; margin-left: 0.5rem\">VEGETABLE (86%)</span>\n",
       "</mark>\n",
       ", red peppers and oregano and cook for 2–3 minutes.</br>    Later, add some \n",
       "<mark class=\"entity\" style=\"background: darkorange; padding: 0.45em 0.6em; margin: 0 0.25em; line-height: 1; border-radius: 0.35em;\">\n",
       "    oranges\n",
       "    <span style=\"font-size: 0.8em; font-weight: bold; line-height: 1; border-radius: 0.35em; vertical-align: middle; margin-left: 0.5rem\">FRUIT (80%)</span>\n",
       "</mark>\n",
       " and \n",
       "<mark class=\"entity\" style=\"background: salmon; padding: 0.45em 0.6em; margin: 0 0.25em; line-height: 1; border-radius: 0.35em;\">\n",
       "    chickens\n",
       "    <span style=\"font-size: 0.8em; font-weight: bold; line-height: 1; border-radius: 0.35em; vertical-align: middle; margin-left: 0.5rem\">MEAT (54%)</span>\n",
       "</mark>\n",
       ". </div></span>"
      ],
      "text/plain": [
       "<IPython.core.display.HTML object>"
      ]
     },
     "metadata": {},
     "output_type": "display_data"
    }
   ],
   "source": [
    "displacy.render(doc, style=\"ent\", options=options, jupyter=True)"
   ]
  },
  {
   "cell_type": "code",
   "execution_count": null,
   "id": "fb98704f-d06e-410c-a42d-dd1a1b406392",
   "metadata": {},
   "outputs": [],
   "source": [
    "data = {\n",
    "    \"fruit\": [\"apple\", \"pear\", \"orange\"],\n",
    "    \"vegetable\": [\"broccoli\", \"spinach\", \"tomato\"],\n",
    "    \"meat\": [\"beef\", \"pork\", \"fish\", \"lamb\"]\n",
    "}\n",
    "\n",
    "# model from https://radimrehurek.com/gensim/downloader.html or path to local file\n",
    "model_path = \"glove-twitter-25\"\n",
    "nlp = spacy.blank(\"en\")\n",
    "nlp.add_pipe(\"concise_concepts\", config={\"data\": data, \"model_path\": model_path})"
   ]
  },
  {
   "cell_type": "code",
   "execution_count": null,
   "id": "9bacabb4-884e-457d-af5d-215244ad4731",
   "metadata": {},
   "outputs": [],
   "source": []
  }
 ],
 "metadata": {
  "kernelspec": {
   "display_name": "Python 3 (ipykernel)",
   "language": "python",
   "name": "python3"
  },
  "language_info": {
   "codemirror_mode": {
    "name": "ipython",
    "version": 3
   },
   "file_extension": ".py",
   "mimetype": "text/x-python",
   "name": "python",
   "nbconvert_exporter": "python",
   "pygments_lexer": "ipython3",
   "version": "3.7.13"
  }
 },
 "nbformat": 4,
 "nbformat_minor": 5
}
