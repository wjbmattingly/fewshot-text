{
 "cells": [
  {
   "cell_type": "code",
   "execution_count": 2,
   "id": "521f15a4-a5f9-4e1b-9baf-4f863e7ae4c2",
   "metadata": {},
   "outputs": [],
   "source": [
    "import spacy\n",
    "import crosslingual_coreference"
   ]
  },
  {
   "cell_type": "code",
   "execution_count": 3,
   "id": "b469dfdd-53d3-4e24-a2c0-e7e8091020f5",
   "metadata": {},
   "outputs": [],
   "source": [
    "text = (\n",
    "    \"Do not forget about Momofuku Ando! He created instant noodles in Osaka. At\"\n",
    "    \" that location, Nissin was founded. Many students survived by eating these\"\n",
    "    \" noodles, but they don't even know him.\"\n",
    ")"
   ]
  },
  {
   "cell_type": "code",
   "execution_count": 5,
   "id": "87efccd5-c102-42cf-bd4d-35a721755de4",
   "metadata": {},
   "outputs": [
    {
     "name": "stderr",
     "output_type": "stream",
     "text": [
      "error loading _jsonnet (this is expected on Windows), treating C:\\Users\\wma22\\AppData\\Local\\Temp\\tmpu2i8uzqi\\config.json as plain json\n"
     ]
    },
    {
     "data": {
      "text/plain": [
       "<crosslingual_coreference.CrossLingualPredictorSpacy.CrossLingualPredictorSpacy at 0x21f918412e0>"
      ]
     },
     "execution_count": 5,
     "metadata": {},
     "output_type": "execute_result"
    }
   ],
   "source": [
    "nlp = spacy.load(\"en_core_web_sm\")\n",
    "nlp.add_pipe(\n",
    "    \"xx_coref\", config={\"chunk_size\": 2500, \"chunk_overlap\": 2, \"device\": -1}\n",
    ")"
   ]
  },
  {
   "cell_type": "code",
   "execution_count": 6,
   "id": "d6ef876c-6b33-42a5-bb91-83327079d21a",
   "metadata": {},
   "outputs": [],
   "source": [
    "doc = nlp(text)"
   ]
  },
  {
   "cell_type": "code",
   "execution_count": 7,
   "id": "a6a69672-46c7-4bf9-97d4-7df85778319e",
   "metadata": {},
   "outputs": [
    {
     "name": "stdout",
     "output_type": "stream",
     "text": [
      "[[[4, 5], [7, 7], [36, 36]], [[9, 10], [27, 28]], [[12, 12], [15, 16]], [[22, 23], [31, 31]]]\n"
     ]
    }
   ],
   "source": [
    "print(doc._.coref_clusters)"
   ]
  },
  {
   "cell_type": "code",
   "execution_count": 8,
   "id": "281a5989-e493-4bd6-802e-db55679b9f51",
   "metadata": {},
   "outputs": [
    {
     "name": "stdout",
     "output_type": "stream",
     "text": [
      "Cluster 1\n",
      "Momofuku Ando\n",
      "He\n",
      "him\n",
      "\n",
      "Cluster 2\n",
      "instant noodles\n",
      "these noodles\n",
      "\n",
      "Cluster 3\n",
      "Osaka\n",
      "that location\n",
      "\n",
      "Cluster 4\n",
      "Many students\n",
      "they\n",
      "\n"
     ]
    }
   ],
   "source": [
    "#EXAMINE CLUSTERS\n",
    "i=1\n",
    "for cluster in doc._.coref_clusters:\n",
    "    print (f\"Cluster {i}\")\n",
    "    for item in cluster:\n",
    "        start, end = item\n",
    "        print (doc[start:end+1])\n",
    "    print ()\n",
    "    i=i+1"
   ]
  },
  {
   "cell_type": "code",
   "execution_count": 32,
   "id": "4c6d3d4f-d840-4b06-a2a2-3636b33b6e35",
   "metadata": {},
   "outputs": [],
   "source": [
    "text2 = \"\"\"\n",
    "The study of Indian music was continued by Miss Frances Dens- more throughout the year. She has completed a report on the Ute\n",
    "music, consisting of about 375 pages, and has submitted new material on Ute, Mandan, and Chippewa music. Her account of the Mandan\n",
    "Hidatsa songs contains 400 pages. A new feature has been introduced\n",
    "in the study of the Ute melodies, where she has devised diagrams\n",
    "consisting of curves on a background of coordinate lines. Miss Densmore's main studies have been on ethnobotany of the Chippewa, and\n",
    "include plants used in treatment of the sick and other subjects. The\n",
    "general economic life and the industries of the people were also studied, during which she made an extensive collection, which she\n",
    "has photographed for use in her publications. She has likewise\n",
    "adopted the method of tone photographs designed by Dr. Dayton C.\n",
    "Miller, of the Case School of Applied Science, Cleveland, Ohio.\n",
    "\"\"\"\n",
    "text2 = text2.replace(\"\\n\", \" \").replace(\"- \", \"\")"
   ]
  },
  {
   "cell_type": "code",
   "execution_count": 33,
   "id": "ec4e170a-e636-454d-94fe-c2d52b63e836",
   "metadata": {},
   "outputs": [
    {
     "data": {
      "text/plain": [
       "\" The study of Indian music was continued by Miss Frances Densmore throughout the year. She has completed a report on the Ute music, consisting of about 375 pages, and has submitted new material on Ute, Mandan, and Chippewa music. Her account of the Mandan Hidatsa songs contains 400 pages. A new feature has been introduced in the study of the Ute melodies, where she has devised diagrams consisting of curves on a background of coordinate lines. Miss Densmore's main studies have been on ethnobotany of the Chippewa, and include plants used in treatment of the sick and other subjects. The general economic life and the industries of the people were also studied, during which she made an extensive collection, which she has photographed for use in her publications. She has likewise adopted the method of tone photographs designed by Dr. Dayton C. Miller, of the Case School of Applied Science, Cleveland, Ohio. \""
      ]
     },
     "execution_count": 33,
     "metadata": {},
     "output_type": "execute_result"
    }
   ],
   "source": [
    "text2"
   ]
  },
  {
   "cell_type": "code",
   "execution_count": 34,
   "id": "5c3279d2-22c5-4c96-b0fc-5185a6de7192",
   "metadata": {},
   "outputs": [],
   "source": [
    "doc = nlp(text2)"
   ]
  },
  {
   "cell_type": "code",
   "execution_count": 36,
   "id": "5e9c4213-d53e-4dc6-a004-e50be97c4316",
   "metadata": {},
   "outputs": [
    {
     "name": "stdout",
     "output_type": "stream",
     "text": [
      "Cluster 1\n",
      "Miss Frances Densmore\n",
      "She\n",
      "Her\n",
      "she\n",
      "Miss Densmore's\n",
      "she\n",
      "she\n",
      "her\n",
      "She\n",
      "\n",
      "Cluster 2\n",
      "Ute\n",
      "Ute\n",
      "Ute\n",
      "\n",
      "Cluster 3\n",
      "Mandan\n",
      "Mandan Hidatsa\n",
      "\n"
     ]
    }
   ],
   "source": [
    "#EXAMINE CLUSTERS\n",
    "i=1\n",
    "for cluster in doc._.coref_clusters:\n",
    "    print (f\"Cluster {i}\")\n",
    "    for item in cluster:\n",
    "        start, end = item\n",
    "        print (doc[start:end+1])\n",
    "    print ()\n",
    "    i=i+1"
   ]
  },
  {
   "cell_type": "code",
   "execution_count": null,
   "id": "c04b2267-3e88-4711-9307-e2133c629a7e",
   "metadata": {},
   "outputs": [],
   "source": []
  },
  {
   "cell_type": "code",
   "execution_count": null,
   "id": "a4e4129d-2c7f-4934-899b-c60099a3492f",
   "metadata": {},
   "outputs": [],
   "source": []
  }
 ],
 "metadata": {
  "kernelspec": {
   "display_name": "Python 3 (ipykernel)",
   "language": "python",
   "name": "python3"
  },
  "language_info": {
   "codemirror_mode": {
    "name": "ipython",
    "version": 3
   },
   "file_extension": ".py",
   "mimetype": "text/x-python",
   "name": "python",
   "nbconvert_exporter": "python",
   "pygments_lexer": "ipython3",
   "version": "3.8.13"
  }
 },
 "nbformat": 4,
 "nbformat_minor": 5
}
